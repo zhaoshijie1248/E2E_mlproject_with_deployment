{
 "cells": [
  {
   "cell_type": "markdown",
   "id": "1e233234",
   "metadata": {},
   "source": [
    "## Student Performance Indicator\n"
   ]
  },
  {
   "cell_type": "markdown",
   "id": "62e05101",
   "metadata": {},
   "source": [
    "#### Life cycle of Machine learning Project\n",
    "\n",
    "- Understanding the Problem Statement\n",
    "- Data Collection\n",
    "- Data Checks to perform\n",
    "- Exploratory data analysis\n",
    "- Data Pre-Processing\n",
    "- Model Training\n",
    "- Choose best model"
   ]
  },
  {
   "cell_type": "markdown",
   "id": "dfcea981",
   "metadata": {},
   "source": [
    "### 1) Problem statement\n",
    "- This project understands how the student's performance (test scores) is affected by other variables such as Gender, Ethnicity, Parental level of education, Lunch and Test preparation course.\n",
    "\n",
    "\n",
    "### 2) Data Collection\n",
    "- Dataset Source - https://www.kaggle.com/datasets/spscientist/students-performance-in-exams?datasetId=74977\n",
    "- The data consists of 8 column and 1000 rows."
   ]
  },
  {
   "cell_type": "markdown",
   "id": "15b1355f",
   "metadata": {},
   "source": [
    "### 2.1 Import Data and Required Packages\n",
    "####  Importing Pandas, Numpy, Matplotlib, Seaborn and Warings Library."
   ]
  },
  {
   "cell_type": "code",
   "execution_count": 1,
   "id": "7eaae1d7",
   "metadata": {},
   "outputs": [],
   "source": [
    "import numpy as np\n",
    "import pandas as pd\n",
    "import seaborn as sns\n",
    "import matplotlib.pyplot as plt\n",
    "%matplotlib inline\n",
    "import warnings\n",
    "warnings.filterwarnings('ignore')"
   ]
  },
  {
   "cell_type": "markdown",
   "id": "3caeb0bb",
   "metadata": {},
   "source": [
    "#### Import the CSV Data as Pandas DataFrame"
   ]
  },
  {
   "cell_type": "code",
   "execution_count": 2,
   "id": "57907087",
   "metadata": {},
   "outputs": [],
   "source": [
    "df = pd.read_csv('data/stud.csv')"
   ]
  },
  {
   "cell_type": "markdown",
   "id": "92c8fd8a",
   "metadata": {},
   "source": [
    "#### Show Top 5 Records"
   ]
  },
  {
   "cell_type": "code",
   "execution_count": 3,
   "id": "7d1a2a0b",
   "metadata": {},
   "outputs": [
    {
     "data": {
      "text/html": [
       "<div>\n",
       "<style scoped>\n",
       "    .dataframe tbody tr th:only-of-type {\n",
       "        vertical-align: middle;\n",
       "    }\n",
       "\n",
       "    .dataframe tbody tr th {\n",
       "        vertical-align: top;\n",
       "    }\n",
       "\n",
       "    .dataframe thead th {\n",
       "        text-align: right;\n",
       "    }\n",
       "</style>\n",
       "<table border=\"1\" class=\"dataframe\">\n",
       "  <thead>\n",
       "    <tr style=\"text-align: right;\">\n",
       "      <th></th>\n",
       "      <th>gender</th>\n",
       "      <th>race_ethnicity</th>\n",
       "      <th>parental_level_of_education</th>\n",
       "      <th>lunch</th>\n",
       "      <th>test_preparation_course</th>\n",
       "      <th>math_score</th>\n",
       "      <th>reading_score</th>\n",
       "      <th>writing_score</th>\n",
       "    </tr>\n",
       "  </thead>\n",
       "  <tbody>\n",
       "    <tr>\n",
       "      <th>0</th>\n",
       "      <td>female</td>\n",
       "      <td>group B</td>\n",
       "      <td>bachelor's degree</td>\n",
       "      <td>standard</td>\n",
       "      <td>none</td>\n",
       "      <td>72</td>\n",
       "      <td>72</td>\n",
       "      <td>74</td>\n",
       "    </tr>\n",
       "    <tr>\n",
       "      <th>1</th>\n",
       "      <td>female</td>\n",
       "      <td>group C</td>\n",
       "      <td>some college</td>\n",
       "      <td>standard</td>\n",
       "      <td>completed</td>\n",
       "      <td>69</td>\n",
       "      <td>90</td>\n",
       "      <td>88</td>\n",
       "    </tr>\n",
       "    <tr>\n",
       "      <th>2</th>\n",
       "      <td>female</td>\n",
       "      <td>group B</td>\n",
       "      <td>master's degree</td>\n",
       "      <td>standard</td>\n",
       "      <td>none</td>\n",
       "      <td>90</td>\n",
       "      <td>95</td>\n",
       "      <td>93</td>\n",
       "    </tr>\n",
       "    <tr>\n",
       "      <th>3</th>\n",
       "      <td>male</td>\n",
       "      <td>group A</td>\n",
       "      <td>associate's degree</td>\n",
       "      <td>free/reduced</td>\n",
       "      <td>none</td>\n",
       "      <td>47</td>\n",
       "      <td>57</td>\n",
       "      <td>44</td>\n",
       "    </tr>\n",
       "    <tr>\n",
       "      <th>4</th>\n",
       "      <td>male</td>\n",
       "      <td>group C</td>\n",
       "      <td>some college</td>\n",
       "      <td>standard</td>\n",
       "      <td>none</td>\n",
       "      <td>76</td>\n",
       "      <td>78</td>\n",
       "      <td>75</td>\n",
       "    </tr>\n",
       "  </tbody>\n",
       "</table>\n",
       "</div>"
      ],
      "text/plain": [
       "   gender race_ethnicity parental_level_of_education         lunch   \n",
       "0  female        group B           bachelor's degree      standard  \\\n",
       "1  female        group C                some college      standard   \n",
       "2  female        group B             master's degree      standard   \n",
       "3    male        group A          associate's degree  free/reduced   \n",
       "4    male        group C                some college      standard   \n",
       "\n",
       "  test_preparation_course  math_score  reading_score  writing_score  \n",
       "0                    none          72             72             74  \n",
       "1               completed          69             90             88  \n",
       "2                    none          90             95             93  \n",
       "3                    none          47             57             44  \n",
       "4                    none          76             78             75  "
      ]
     },
     "execution_count": 3,
     "metadata": {},
     "output_type": "execute_result"
    }
   ],
   "source": [
    "df.head()"
   ]
  },
  {
   "cell_type": "markdown",
   "id": "56a49220",
   "metadata": {},
   "source": [
    "#### Shape of the dataset"
   ]
  },
  {
   "cell_type": "code",
   "execution_count": 4,
   "id": "417e5820",
   "metadata": {},
   "outputs": [
    {
     "data": {
      "text/plain": [
       "(1000, 8)"
      ]
     },
     "execution_count": 4,
     "metadata": {},
     "output_type": "execute_result"
    }
   ],
   "source": [
    "df.shape"
   ]
  },
  {
   "cell_type": "markdown",
   "id": "041aa39d",
   "metadata": {},
   "source": [
    "### 2.2 Dataset information"
   ]
  },
  {
   "cell_type": "markdown",
   "id": "7e3cff9d",
   "metadata": {},
   "source": [
    "- gender : sex of students  -> (Male/female)\n",
    "- race/ethnicity : ethnicity of students -> (Group A, B,C, D,E)\n",
    "- parental level of education : parents' final education ->(bachelor's degree,some college,master's degree,associate's degree,high school)\n",
    "- lunch : having lunch before test (standard or free/reduced) \n",
    "- test preparation course : complete or not complete before test\n",
    "- math score\n",
    "- reading score\n",
    "- writing score"
   ]
  },
  {
   "cell_type": "markdown",
   "id": "27c4b61b",
   "metadata": {},
   "source": [
    "### 3. Data Checks to perform\n",
    "\n",
    "- Check Missing values\n",
    "- Check Duplicates\n",
    "- Check data type\n",
    "- Check the number of unique values of each column\n",
    "- Check statistics of data set\n",
    "- Check various categories present in the different categorical column"
   ]
  },
  {
   "cell_type": "markdown",
   "id": "c31d4123",
   "metadata": {},
   "source": [
    "### 3.1 Check Missing values"
   ]
  },
  {
   "cell_type": "code",
   "execution_count": 5,
   "id": "707d6a7b",
   "metadata": {},
   "outputs": [
    {
     "data": {
      "text/plain": [
       "gender                         0\n",
       "race_ethnicity                 0\n",
       "parental_level_of_education    0\n",
       "lunch                          0\n",
       "test_preparation_course        0\n",
       "math_score                     0\n",
       "reading_score                  0\n",
       "writing_score                  0\n",
       "dtype: int64"
      ]
     },
     "execution_count": 5,
     "metadata": {},
     "output_type": "execute_result"
    }
   ],
   "source": [
    "df.isna().sum()"
   ]
  },
  {
   "cell_type": "markdown",
   "id": "ce8f7b83",
   "metadata": {},
   "source": [
    "#### There are no missing values in the data set"
   ]
  },
  {
   "cell_type": "markdown",
   "id": "5840ff7f",
   "metadata": {},
   "source": [
    "### 3.2 Check Duplicates"
   ]
  },
  {
   "cell_type": "code",
   "execution_count": 6,
   "id": "ae16686e",
   "metadata": {},
   "outputs": [
    {
     "data": {
      "text/plain": [
       "0"
      ]
     },
     "execution_count": 6,
     "metadata": {},
     "output_type": "execute_result"
    }
   ],
   "source": [
    "df.duplicated().sum()"
   ]
  },
  {
   "cell_type": "markdown",
   "id": "e5d7ae8e",
   "metadata": {},
   "source": [
    "#### There are no duplicates  values in the data set"
   ]
  },
  {
   "cell_type": "markdown",
   "id": "30dfacc8",
   "metadata": {},
   "source": [
    "### 3.3 Check data types"
   ]
  },
  {
   "cell_type": "code",
   "execution_count": 7,
   "id": "25f95bc8",
   "metadata": {},
   "outputs": [
    {
     "name": "stdout",
     "output_type": "stream",
     "text": [
      "<class 'pandas.core.frame.DataFrame'>\n",
      "RangeIndex: 1000 entries, 0 to 999\n",
      "Data columns (total 8 columns):\n",
      " #   Column                       Non-Null Count  Dtype \n",
      "---  ------                       --------------  ----- \n",
      " 0   gender                       1000 non-null   object\n",
      " 1   race_ethnicity               1000 non-null   object\n",
      " 2   parental_level_of_education  1000 non-null   object\n",
      " 3   lunch                        1000 non-null   object\n",
      " 4   test_preparation_course      1000 non-null   object\n",
      " 5   math_score                   1000 non-null   int64 \n",
      " 6   reading_score                1000 non-null   int64 \n",
      " 7   writing_score                1000 non-null   int64 \n",
      "dtypes: int64(3), object(5)\n",
      "memory usage: 62.6+ KB\n"
     ]
    }
   ],
   "source": [
    "# Check Null and Dtypes\n",
    "df.info()"
   ]
  },
  {
   "cell_type": "markdown",
   "id": "0dbbf5b4",
   "metadata": {},
   "source": [
    "### 3.4 Checking the number of unique values of each column"
   ]
  },
  {
   "cell_type": "code",
   "execution_count": 8,
   "id": "2c2b61b6",
   "metadata": {},
   "outputs": [
    {
     "data": {
      "text/plain": [
       "gender                          2\n",
       "race_ethnicity                  5\n",
       "parental_level_of_education     6\n",
       "lunch                           2\n",
       "test_preparation_course         2\n",
       "math_score                     81\n",
       "reading_score                  72\n",
       "writing_score                  77\n",
       "dtype: int64"
      ]
     },
     "execution_count": 8,
     "metadata": {},
     "output_type": "execute_result"
    }
   ],
   "source": [
    "df.nunique()"
   ]
  },
  {
   "cell_type": "markdown",
   "id": "a4f6b022",
   "metadata": {},
   "source": [
    "### 3.5 Check statistics of data set"
   ]
  },
  {
   "cell_type": "code",
   "execution_count": 9,
   "id": "76c608dc",
   "metadata": {},
   "outputs": [
    {
     "data": {
      "text/html": [
       "<div>\n",
       "<style scoped>\n",
       "    .dataframe tbody tr th:only-of-type {\n",
       "        vertical-align: middle;\n",
       "    }\n",
       "\n",
       "    .dataframe tbody tr th {\n",
       "        vertical-align: top;\n",
       "    }\n",
       "\n",
       "    .dataframe thead th {\n",
       "        text-align: right;\n",
       "    }\n",
       "</style>\n",
       "<table border=\"1\" class=\"dataframe\">\n",
       "  <thead>\n",
       "    <tr style=\"text-align: right;\">\n",
       "      <th></th>\n",
       "      <th>math_score</th>\n",
       "      <th>reading_score</th>\n",
       "      <th>writing_score</th>\n",
       "    </tr>\n",
       "  </thead>\n",
       "  <tbody>\n",
       "    <tr>\n",
       "      <th>count</th>\n",
       "      <td>1000.00000</td>\n",
       "      <td>1000.000000</td>\n",
       "      <td>1000.000000</td>\n",
       "    </tr>\n",
       "    <tr>\n",
       "      <th>mean</th>\n",
       "      <td>66.08900</td>\n",
       "      <td>69.169000</td>\n",
       "      <td>68.054000</td>\n",
       "    </tr>\n",
       "    <tr>\n",
       "      <th>std</th>\n",
       "      <td>15.16308</td>\n",
       "      <td>14.600192</td>\n",
       "      <td>15.195657</td>\n",
       "    </tr>\n",
       "    <tr>\n",
       "      <th>min</th>\n",
       "      <td>0.00000</td>\n",
       "      <td>17.000000</td>\n",
       "      <td>10.000000</td>\n",
       "    </tr>\n",
       "    <tr>\n",
       "      <th>25%</th>\n",
       "      <td>57.00000</td>\n",
       "      <td>59.000000</td>\n",
       "      <td>57.750000</td>\n",
       "    </tr>\n",
       "    <tr>\n",
       "      <th>50%</th>\n",
       "      <td>66.00000</td>\n",
       "      <td>70.000000</td>\n",
       "      <td>69.000000</td>\n",
       "    </tr>\n",
       "    <tr>\n",
       "      <th>75%</th>\n",
       "      <td>77.00000</td>\n",
       "      <td>79.000000</td>\n",
       "      <td>79.000000</td>\n",
       "    </tr>\n",
       "    <tr>\n",
       "      <th>max</th>\n",
       "      <td>100.00000</td>\n",
       "      <td>100.000000</td>\n",
       "      <td>100.000000</td>\n",
       "    </tr>\n",
       "  </tbody>\n",
       "</table>\n",
       "</div>"
      ],
      "text/plain": [
       "       math_score  reading_score  writing_score\n",
       "count  1000.00000    1000.000000    1000.000000\n",
       "mean     66.08900      69.169000      68.054000\n",
       "std      15.16308      14.600192      15.195657\n",
       "min       0.00000      17.000000      10.000000\n",
       "25%      57.00000      59.000000      57.750000\n",
       "50%      66.00000      70.000000      69.000000\n",
       "75%      77.00000      79.000000      79.000000\n",
       "max     100.00000     100.000000     100.000000"
      ]
     },
     "execution_count": 9,
     "metadata": {},
     "output_type": "execute_result"
    }
   ],
   "source": [
    "df.describe()"
   ]
  },
  {
   "cell_type": "markdown",
   "id": "9dc41207",
   "metadata": {},
   "source": [
    "#### Insight\n",
    "- From above description of numerical data, all means are very close to each other - between 66 and 68.05;\n",
    "- All standard deviations are also close - between 14.6 and 15.19;\n",
    "- While there is a minimum score  0 for math, for writing minimum is much higher = 10 and for reading myet higher = 17"
   ]
  },
  {
   "cell_type": "markdown",
   "id": "ac52d9cb",
   "metadata": {},
   "source": [
    "### 3.7 Exploring Data"
   ]
  },
  {
   "cell_type": "code",
   "execution_count": 10,
   "id": "1afd3c09",
   "metadata": {},
   "outputs": [
    {
     "data": {
      "text/html": [
       "<div>\n",
       "<style scoped>\n",
       "    .dataframe tbody tr th:only-of-type {\n",
       "        vertical-align: middle;\n",
       "    }\n",
       "\n",
       "    .dataframe tbody tr th {\n",
       "        vertical-align: top;\n",
       "    }\n",
       "\n",
       "    .dataframe thead th {\n",
       "        text-align: right;\n",
       "    }\n",
       "</style>\n",
       "<table border=\"1\" class=\"dataframe\">\n",
       "  <thead>\n",
       "    <tr style=\"text-align: right;\">\n",
       "      <th></th>\n",
       "      <th>gender</th>\n",
       "      <th>race_ethnicity</th>\n",
       "      <th>parental_level_of_education</th>\n",
       "      <th>lunch</th>\n",
       "      <th>test_preparation_course</th>\n",
       "      <th>math_score</th>\n",
       "      <th>reading_score</th>\n",
       "      <th>writing_score</th>\n",
       "    </tr>\n",
       "  </thead>\n",
       "  <tbody>\n",
       "    <tr>\n",
       "      <th>0</th>\n",
       "      <td>female</td>\n",
       "      <td>group B</td>\n",
       "      <td>bachelor's degree</td>\n",
       "      <td>standard</td>\n",
       "      <td>none</td>\n",
       "      <td>72</td>\n",
       "      <td>72</td>\n",
       "      <td>74</td>\n",
       "    </tr>\n",
       "    <tr>\n",
       "      <th>1</th>\n",
       "      <td>female</td>\n",
       "      <td>group C</td>\n",
       "      <td>some college</td>\n",
       "      <td>standard</td>\n",
       "      <td>completed</td>\n",
       "      <td>69</td>\n",
       "      <td>90</td>\n",
       "      <td>88</td>\n",
       "    </tr>\n",
       "    <tr>\n",
       "      <th>2</th>\n",
       "      <td>female</td>\n",
       "      <td>group B</td>\n",
       "      <td>master's degree</td>\n",
       "      <td>standard</td>\n",
       "      <td>none</td>\n",
       "      <td>90</td>\n",
       "      <td>95</td>\n",
       "      <td>93</td>\n",
       "    </tr>\n",
       "    <tr>\n",
       "      <th>3</th>\n",
       "      <td>male</td>\n",
       "      <td>group A</td>\n",
       "      <td>associate's degree</td>\n",
       "      <td>free/reduced</td>\n",
       "      <td>none</td>\n",
       "      <td>47</td>\n",
       "      <td>57</td>\n",
       "      <td>44</td>\n",
       "    </tr>\n",
       "    <tr>\n",
       "      <th>4</th>\n",
       "      <td>male</td>\n",
       "      <td>group C</td>\n",
       "      <td>some college</td>\n",
       "      <td>standard</td>\n",
       "      <td>none</td>\n",
       "      <td>76</td>\n",
       "      <td>78</td>\n",
       "      <td>75</td>\n",
       "    </tr>\n",
       "  </tbody>\n",
       "</table>\n",
       "</div>"
      ],
      "text/plain": [
       "   gender race_ethnicity parental_level_of_education         lunch   \n",
       "0  female        group B           bachelor's degree      standard  \\\n",
       "1  female        group C                some college      standard   \n",
       "2  female        group B             master's degree      standard   \n",
       "3    male        group A          associate's degree  free/reduced   \n",
       "4    male        group C                some college      standard   \n",
       "\n",
       "  test_preparation_course  math_score  reading_score  writing_score  \n",
       "0                    none          72             72             74  \n",
       "1               completed          69             90             88  \n",
       "2                    none          90             95             93  \n",
       "3                    none          47             57             44  \n",
       "4                    none          76             78             75  "
      ]
     },
     "execution_count": 10,
     "metadata": {},
     "output_type": "execute_result"
    }
   ],
   "source": [
    "df.head()"
   ]
  },
  {
   "cell_type": "code",
   "execution_count": 11,
   "id": "b9081742",
   "metadata": {},
   "outputs": [
    {
     "name": "stdout",
     "output_type": "stream",
     "text": [
      "Categories in 'gender' variable:      ['female' 'male']\n",
      "Categories in 'race_ethnicity' variable:   ['group B' 'group C' 'group A' 'group D' 'group E']\n",
      "Categories in'parental level of education' variable: [\"bachelor's degree\" 'some college' \"master's degree\" \"associate's degree\"\n",
      " 'high school' 'some high school']\n",
      "Categories in 'lunch' variable:      ['standard' 'free/reduced']\n",
      "Categories in 'test preparation course' variable:      ['none' 'completed']\n"
     ]
    }
   ],
   "source": [
    "print(\"Categories in 'gender' variable:     \",end=\" \" )\n",
    "print(df['gender'].unique())\n",
    "\n",
    "print(\"Categories in 'race_ethnicity' variable:  \",end=\" \")\n",
    "print(df['race_ethnicity'].unique())\n",
    "\n",
    "print(\"Categories in'parental level of education' variable:\",end=\" \" )\n",
    "print(df['parental_level_of_education'].unique())\n",
    "\n",
    "print(\"Categories in 'lunch' variable:     \",end=\" \" )\n",
    "print(df['lunch'].unique())\n",
    "\n",
    "print(\"Categories in 'test preparation course' variable:     \",end=\" \" )\n",
    "print(df['test_preparation_course'].unique())"
   ]
  },
  {
   "cell_type": "code",
   "execution_count": 12,
   "id": "2dd97e26",
   "metadata": {},
   "outputs": [
    {
     "name": "stdout",
     "output_type": "stream",
     "text": [
      "We have 3 numerical features : ['math_score', 'reading_score', 'writing_score']\n",
      "\n",
      "We have 5 categorical features : ['gender', 'race_ethnicity', 'parental_level_of_education', 'lunch', 'test_preparation_course']\n"
     ]
    }
   ],
   "source": [
    "# define numerical & categorical columns\n",
    "numeric_features = [feature for feature in df.columns if df[feature].dtype != 'O']\n",
    "categorical_features = [feature for feature in df.columns if df[feature].dtype == 'O']\n",
    "\n",
    "# print columns\n",
    "print('We have {} numerical features : {}'.format(len(numeric_features), numeric_features))\n",
    "print('\\nWe have {} categorical features : {}'.format(len(categorical_features), categorical_features))"
   ]
  },
  {
   "cell_type": "code",
   "execution_count": 13,
   "id": "ae2822d1",
   "metadata": {},
   "outputs": [
    {
     "data": {
      "text/html": [
       "<div>\n",
       "<style scoped>\n",
       "    .dataframe tbody tr th:only-of-type {\n",
       "        vertical-align: middle;\n",
       "    }\n",
       "\n",
       "    .dataframe tbody tr th {\n",
       "        vertical-align: top;\n",
       "    }\n",
       "\n",
       "    .dataframe thead th {\n",
       "        text-align: right;\n",
       "    }\n",
       "</style>\n",
       "<table border=\"1\" class=\"dataframe\">\n",
       "  <thead>\n",
       "    <tr style=\"text-align: right;\">\n",
       "      <th></th>\n",
       "      <th>gender</th>\n",
       "      <th>race_ethnicity</th>\n",
       "      <th>parental_level_of_education</th>\n",
       "      <th>lunch</th>\n",
       "      <th>test_preparation_course</th>\n",
       "      <th>math_score</th>\n",
       "      <th>reading_score</th>\n",
       "      <th>writing_score</th>\n",
       "    </tr>\n",
       "  </thead>\n",
       "  <tbody>\n",
       "    <tr>\n",
       "      <th>0</th>\n",
       "      <td>female</td>\n",
       "      <td>group B</td>\n",
       "      <td>bachelor's degree</td>\n",
       "      <td>standard</td>\n",
       "      <td>none</td>\n",
       "      <td>72</td>\n",
       "      <td>72</td>\n",
       "      <td>74</td>\n",
       "    </tr>\n",
       "    <tr>\n",
       "      <th>1</th>\n",
       "      <td>female</td>\n",
       "      <td>group C</td>\n",
       "      <td>some college</td>\n",
       "      <td>standard</td>\n",
       "      <td>completed</td>\n",
       "      <td>69</td>\n",
       "      <td>90</td>\n",
       "      <td>88</td>\n",
       "    </tr>\n",
       "  </tbody>\n",
       "</table>\n",
       "</div>"
      ],
      "text/plain": [
       "   gender race_ethnicity parental_level_of_education     lunch   \n",
       "0  female        group B           bachelor's degree  standard  \\\n",
       "1  female        group C                some college  standard   \n",
       "\n",
       "  test_preparation_course  math_score  reading_score  writing_score  \n",
       "0                    none          72             72             74  \n",
       "1               completed          69             90             88  "
      ]
     },
     "execution_count": 13,
     "metadata": {},
     "output_type": "execute_result"
    }
   ],
   "source": [
    "df.head(2)"
   ]
  },
  {
   "cell_type": "code",
   "execution_count": null,
   "id": "204aa708",
   "metadata": {},
   "outputs": [],
   "source": []
  },
  {
   "cell_type": "markdown",
   "id": "bd42eda6",
   "metadata": {},
   "source": [
    "### 3.8 Adding columns for \"Total Score\" and \"Average\""
   ]
  },
  {
   "cell_type": "code",
   "execution_count": 14,
   "id": "3ffbfdf7",
   "metadata": {},
   "outputs": [
    {
     "data": {
      "text/html": [
       "<div>\n",
       "<style scoped>\n",
       "    .dataframe tbody tr th:only-of-type {\n",
       "        vertical-align: middle;\n",
       "    }\n",
       "\n",
       "    .dataframe tbody tr th {\n",
       "        vertical-align: top;\n",
       "    }\n",
       "\n",
       "    .dataframe thead th {\n",
       "        text-align: right;\n",
       "    }\n",
       "</style>\n",
       "<table border=\"1\" class=\"dataframe\">\n",
       "  <thead>\n",
       "    <tr style=\"text-align: right;\">\n",
       "      <th></th>\n",
       "      <th>gender</th>\n",
       "      <th>race_ethnicity</th>\n",
       "      <th>parental_level_of_education</th>\n",
       "      <th>lunch</th>\n",
       "      <th>test_preparation_course</th>\n",
       "      <th>math_score</th>\n",
       "      <th>reading_score</th>\n",
       "      <th>writing_score</th>\n",
       "      <th>total score</th>\n",
       "      <th>average</th>\n",
       "    </tr>\n",
       "  </thead>\n",
       "  <tbody>\n",
       "    <tr>\n",
       "      <th>0</th>\n",
       "      <td>female</td>\n",
       "      <td>group B</td>\n",
       "      <td>bachelor's degree</td>\n",
       "      <td>standard</td>\n",
       "      <td>none</td>\n",
       "      <td>72</td>\n",
       "      <td>72</td>\n",
       "      <td>74</td>\n",
       "      <td>218</td>\n",
       "      <td>72.666667</td>\n",
       "    </tr>\n",
       "    <tr>\n",
       "      <th>1</th>\n",
       "      <td>female</td>\n",
       "      <td>group C</td>\n",
       "      <td>some college</td>\n",
       "      <td>standard</td>\n",
       "      <td>completed</td>\n",
       "      <td>69</td>\n",
       "      <td>90</td>\n",
       "      <td>88</td>\n",
       "      <td>247</td>\n",
       "      <td>82.333333</td>\n",
       "    </tr>\n",
       "    <tr>\n",
       "      <th>2</th>\n",
       "      <td>female</td>\n",
       "      <td>group B</td>\n",
       "      <td>master's degree</td>\n",
       "      <td>standard</td>\n",
       "      <td>none</td>\n",
       "      <td>90</td>\n",
       "      <td>95</td>\n",
       "      <td>93</td>\n",
       "      <td>278</td>\n",
       "      <td>92.666667</td>\n",
       "    </tr>\n",
       "    <tr>\n",
       "      <th>3</th>\n",
       "      <td>male</td>\n",
       "      <td>group A</td>\n",
       "      <td>associate's degree</td>\n",
       "      <td>free/reduced</td>\n",
       "      <td>none</td>\n",
       "      <td>47</td>\n",
       "      <td>57</td>\n",
       "      <td>44</td>\n",
       "      <td>148</td>\n",
       "      <td>49.333333</td>\n",
       "    </tr>\n",
       "    <tr>\n",
       "      <th>4</th>\n",
       "      <td>male</td>\n",
       "      <td>group C</td>\n",
       "      <td>some college</td>\n",
       "      <td>standard</td>\n",
       "      <td>none</td>\n",
       "      <td>76</td>\n",
       "      <td>78</td>\n",
       "      <td>75</td>\n",
       "      <td>229</td>\n",
       "      <td>76.333333</td>\n",
       "    </tr>\n",
       "  </tbody>\n",
       "</table>\n",
       "</div>"
      ],
      "text/plain": [
       "   gender race_ethnicity parental_level_of_education         lunch   \n",
       "0  female        group B           bachelor's degree      standard  \\\n",
       "1  female        group C                some college      standard   \n",
       "2  female        group B             master's degree      standard   \n",
       "3    male        group A          associate's degree  free/reduced   \n",
       "4    male        group C                some college      standard   \n",
       "\n",
       "  test_preparation_course  math_score  reading_score  writing_score   \n",
       "0                    none          72             72             74  \\\n",
       "1               completed          69             90             88   \n",
       "2                    none          90             95             93   \n",
       "3                    none          47             57             44   \n",
       "4                    none          76             78             75   \n",
       "\n",
       "   total score    average  \n",
       "0          218  72.666667  \n",
       "1          247  82.333333  \n",
       "2          278  92.666667  \n",
       "3          148  49.333333  \n",
       "4          229  76.333333  "
      ]
     },
     "execution_count": 14,
     "metadata": {},
     "output_type": "execute_result"
    }
   ],
   "source": [
    "df['total score'] = df['math_score'] + df['reading_score'] + df['writing_score']\n",
    "df['average'] = df['total score']/3\n",
    "df.head()"
   ]
  },
  {
   "cell_type": "code",
   "execution_count": 15,
   "id": "26dc3844",
   "metadata": {},
   "outputs": [
    {
     "name": "stdout",
     "output_type": "stream",
     "text": [
      "Number of students with full marks in Maths: 7\n",
      "Number of students with full marks in Writing: 14\n",
      "Number of students with full marks in Reading: 17\n"
     ]
    }
   ],
   "source": [
    "reading_full = df[df['reading_score'] == 100]['average'].count()\n",
    "writing_full = df[df['writing_score'] == 100]['average'].count()\n",
    "math_full = df[df['math_score'] == 100]['average'].count()\n",
    "\n",
    "print(f'Number of students with full marks in Maths: {math_full}')\n",
    "print(f'Number of students with full marks in Writing: {writing_full}')\n",
    "print(f'Number of students with full marks in Reading: {reading_full}')"
   ]
  },
  {
   "cell_type": "code",
   "execution_count": 16,
   "id": "572c8a75",
   "metadata": {},
   "outputs": [
    {
     "name": "stdout",
     "output_type": "stream",
     "text": [
      "Number of students with less than 20 marks in Maths: 4\n",
      "Number of students with less than 20 marks in Writing: 3\n",
      "Number of students with less than 20 marks in Reading: 1\n"
     ]
    }
   ],
   "source": [
    "reading_less_20 = df[df['reading_score'] <= 20]['average'].count()\n",
    "writing_less_20 = df[df['writing_score'] <= 20]['average'].count()\n",
    "math_less_20 = df[df['math_score'] <= 20]['average'].count()\n",
    "\n",
    "print(f'Number of students with less than 20 marks in Maths: {math_less_20}')\n",
    "print(f'Number of students with less than 20 marks in Writing: {writing_less_20}')\n",
    "print(f'Number of students with less than 20 marks in Reading: {reading_less_20}')"
   ]
  },
  {
   "cell_type": "markdown",
   "id": "190e078c",
   "metadata": {},
   "source": [
    "#####  Insights\n",
    " - From above values we get students have performed the worst in Maths \n",
    " - Best performance is in reading section"
   ]
  },
  {
   "cell_type": "markdown",
   "id": "e598bc93",
   "metadata": {},
   "source": [
    "### 4. Exploring Data ( Visualization )\n",
    "#### 4.1 Visualize average score distribution to make some conclusion. \n",
    "- Histogram\n",
    "- Kernel Distribution Function (KDE)"
   ]
  },
  {
   "cell_type": "markdown",
   "id": "f4726058",
   "metadata": {},
   "source": [
    "#### 4.1.1 Histogram & KDE"
   ]
  },
  {
   "cell_type": "code",
   "execution_count": 17,
   "id": "1400126c",
   "metadata": {},
   "outputs": [
    {
     "name": "stdout",
     "output_type": "stream",
     "text": [
      "Requirement already satisfied: seaborn in c:\\programdata\\anaconda3\\lib\\site-packages (0.10.1)\n",
      "Collecting seaborn\n",
      "  Using cached seaborn-0.12.2-py3-none-any.whl (293 kB)\n",
      "Requirement already satisfied: numpy!=1.24.0,>=1.17 in c:\\programdata\\anaconda3\\lib\\site-packages (from seaborn) (1.21.5)\n",
      "Requirement already satisfied: pandas>=0.25 in c:\\programdata\\anaconda3\\lib\\site-packages (from seaborn) (2.0.0)\n",
      "Requirement already satisfied: matplotlib!=3.6.1,>=3.1 in c:\\programdata\\anaconda3\\lib\\site-packages (from seaborn) (3.5.1)\n",
      "Requirement already satisfied: cycler>=0.10 in c:\\programdata\\anaconda3\\lib\\site-packages (from matplotlib!=3.6.1,>=3.1->seaborn) (0.11.0)\n",
      "Requirement already satisfied: fonttools>=4.22.0 in c:\\programdata\\anaconda3\\lib\\site-packages (from matplotlib!=3.6.1,>=3.1->seaborn) (4.25.0)\n",
      "Requirement already satisfied: kiwisolver>=1.0.1 in c:\\programdata\\anaconda3\\lib\\site-packages (from matplotlib!=3.6.1,>=3.1->seaborn) (1.3.2)\n",
      "Requirement already satisfied: packaging>=20.0 in c:\\programdata\\anaconda3\\lib\\site-packages (from matplotlib!=3.6.1,>=3.1->seaborn) (21.3)\n",
      "Requirement already satisfied: pillow>=6.2.0 in c:\\programdata\\anaconda3\\lib\\site-packages (from matplotlib!=3.6.1,>=3.1->seaborn) (9.0.1)\n",
      "Requirement already satisfied: pyparsing>=2.2.1 in c:\\programdata\\anaconda3\\lib\\site-packages (from matplotlib!=3.6.1,>=3.1->seaborn) (3.0.4)\n",
      "Requirement already satisfied: python-dateutil>=2.7 in c:\\programdata\\anaconda3\\lib\\site-packages (from matplotlib!=3.6.1,>=3.1->seaborn) (2.8.2)\n",
      "Requirement already satisfied: pytz>=2020.1 in c:\\programdata\\anaconda3\\lib\\site-packages (from pandas>=0.25->seaborn) (2023.3)\n",
      "Requirement already satisfied: tzdata>=2022.1 in c:\\programdata\\anaconda3\\lib\\site-packages (from pandas>=0.25->seaborn) (2022.7)\n",
      "Requirement already satisfied: six>=1.5 in c:\\programdata\\anaconda3\\lib\\site-packages (from python-dateutil>=2.7->matplotlib!=3.6.1,>=3.1->seaborn) (1.16.0)\n",
      "Installing collected packages: seaborn\n",
      "  Attempting uninstall: seaborn\n",
      "    Found existing installation: seaborn 0.10.1\n",
      "    Uninstalling seaborn-0.10.1:\n",
      "      Successfully uninstalled seaborn-0.10.1\n",
      "Successfully installed seaborn-0.12.2\n",
      "Note: you may need to restart the kernel to use updated packages.\n"
     ]
    },
    {
     "name": "stderr",
     "output_type": "stream",
     "text": [
      "WARNING: Ignoring invalid distribution -ygments (c:\\programdata\\anaconda3\\lib\\site-packages)\n",
      "WARNING: Ignoring invalid distribution -ygments (c:\\programdata\\anaconda3\\lib\\site-packages)\n"
     ]
    }
   ],
   "source": [
    "pip install -U seaborn"
   ]
  },
  {
   "cell_type": "code",
   "execution_count": 18,
   "id": "c2510266",
   "metadata": {},
   "outputs": [
    {
     "ename": "AttributeError",
     "evalue": "module 'seaborn' has no attribute 'histplot'",
     "output_type": "error",
     "traceback": [
      "\u001b[1;31m---------------------------------------------------------------------------\u001b[0m",
      "\u001b[1;31mAttributeError\u001b[0m                            Traceback (most recent call last)",
      "Input \u001b[1;32mIn [18]\u001b[0m, in \u001b[0;36m<cell line: 3>\u001b[1;34m()\u001b[0m\n\u001b[0;32m      1\u001b[0m fig, axs \u001b[38;5;241m=\u001b[39m plt\u001b[38;5;241m.\u001b[39msubplots(\u001b[38;5;241m1\u001b[39m, \u001b[38;5;241m2\u001b[39m, figsize\u001b[38;5;241m=\u001b[39m(\u001b[38;5;241m15\u001b[39m, \u001b[38;5;241m7\u001b[39m))\n\u001b[0;32m      2\u001b[0m plt\u001b[38;5;241m.\u001b[39msubplot(\u001b[38;5;241m121\u001b[39m)\n\u001b[1;32m----> 3\u001b[0m \u001b[43msns\u001b[49m\u001b[38;5;241;43m.\u001b[39;49m\u001b[43mhistplot\u001b[49m(data\u001b[38;5;241m=\u001b[39mdf,x\u001b[38;5;241m=\u001b[39m\u001b[38;5;124m'\u001b[39m\u001b[38;5;124maverage\u001b[39m\u001b[38;5;124m'\u001b[39m,bins\u001b[38;5;241m=\u001b[39m\u001b[38;5;241m30\u001b[39m,kde\u001b[38;5;241m=\u001b[39m\u001b[38;5;28;01mTrue\u001b[39;00m,color\u001b[38;5;241m=\u001b[39m\u001b[38;5;124m'\u001b[39m\u001b[38;5;124mg\u001b[39m\u001b[38;5;124m'\u001b[39m)\n\u001b[0;32m      4\u001b[0m plt\u001b[38;5;241m.\u001b[39msubplot(\u001b[38;5;241m122\u001b[39m)\n\u001b[0;32m      5\u001b[0m sns\u001b[38;5;241m.\u001b[39mhistplot(data\u001b[38;5;241m=\u001b[39mdf,x\u001b[38;5;241m=\u001b[39m\u001b[38;5;124m'\u001b[39m\u001b[38;5;124maverage\u001b[39m\u001b[38;5;124m'\u001b[39m,kde\u001b[38;5;241m=\u001b[39m\u001b[38;5;28;01mTrue\u001b[39;00m,hue\u001b[38;5;241m=\u001b[39m\u001b[38;5;124m'\u001b[39m\u001b[38;5;124mgender\u001b[39m\u001b[38;5;124m'\u001b[39m)\n",
      "\u001b[1;31mAttributeError\u001b[0m: module 'seaborn' has no attribute 'histplot'"
     ]
    },
    {
     "data": {
      "image/png": "[encoded data removed]",
      "text/plain": [
       "<Figure size 1080x504 with 2 Axes>"
      ]
     },
     "metadata": {
      "needs_background": "light"
     },
     "output_type": "display_data"
    }
   ],
   "source": [
    "fig, axs = plt.subplots(1, 2, figsize=(15, 7))\n",
    "plt.subplot(121)\n",
    "sns.histplot(data=df,x='average',bins=30,kde=True,color='g')\n",
    "plt.subplot(122)\n",
    "sns.histplot(data=df,x='average',kde=True,hue='gender')\n",
    "plt.show()"
   ]
  },
  {
   "cell_type": "code",
   "execution_count": null,
   "id": "e7967c7a",
   "metadata": {},
   "outputs": [],
   "source": [
    "fig, axs = plt.subplots(1, 2, figsize=(15, 7))\n",
    "plt.subplot(121)\n",
    "sns.histplot(data=df,x='total score',bins=30,kde=True,color='g')\n",
    "plt.subplot(122)\n",
    "sns.histplot(data=df,x='total score',kde=True,hue='gender')\n",
    "plt.show()"
   ]
  },
  {
   "cell_type": "markdown",
   "id": "3d200b76",
   "metadata": {},
   "source": [
    "#####  Insights\n",
    "- Female students tend to perform well then male students."
   ]
  },
  {
   "cell_type": "code",
   "execution_count": null,
   "id": "15522737",
   "metadata": {},
   "outputs": [],
   "source": [
    "plt.subplots(1,3,figsize=(25,6))\n",
    "plt.subplot(141)\n",
    "sns.histplot(data=df,x='average',kde=True,hue='lunch')\n",
    "plt.subplot(142)\n",
    "sns.histplot(data=df[df.gender=='female'],x='average',kde=True,hue='lunch')\n",
    "plt.subplot(143)\n",
    "sns.histplot(data=df[df.gender=='male'],x='average',kde=True,hue='lunch')\n",
    "plt.show()"
   ]
  },
  {
   "cell_type": "markdown",
   "id": "569113e7",
   "metadata": {},
   "source": [
    "#####  Insights\n",
    "- Standard lunch helps perform well in exams.\n",
    "- Standard lunch helps perform well in exams be it a male or a female."
   ]
  },
  {
   "cell_type": "code",
   "execution_count": null,
   "id": "0b6c697a",
   "metadata": {},
   "outputs": [],
   "source": [
    "plt.subplots(1,3,figsize=(25,6))\n",
    "plt.subplot(141)\n",
    "ax =sns.histplot(data=df,x='average',kde=True,hue='parental level of education')\n",
    "plt.subplot(142)\n",
    "ax =sns.histplot(data=df[df.gender=='male'],x='average',kde=True,hue='parental level of education')\n",
    "plt.subplot(143)\n",
    "ax =sns.histplot(data=df[df.gender=='female'],x='average',kde=True,hue='parental level of education')\n",
    "plt.show()"
   ]
  },
  {
   "cell_type": "markdown",
   "id": "9e7fd489",
   "metadata": {},
   "source": [
    "#####  Insights\n",
    "- In general parent's education don't help student perform well in exam.\n",
    "- 2nd plot shows that parent's whose education is of associate's degree or master's degree their male child tend to perform well in exam\n",
    "- 3rd plot we can see there is no effect of parent's education on female students."
   ]
  },
  {
   "cell_type": "code",
   "execution_count": null,
   "id": "0b30cbd7",
   "metadata": {},
   "outputs": [],
   "source": [
    "plt.subplots(1,3,figsize=(25,6))\n",
    "plt.subplot(141)\n",
    "ax =sns.histplot(data=df,x='average',kde=True,hue='race/ethnicity')\n",
    "plt.subplot(142)\n",
    "ax =sns.histplot(data=df[df.gender=='female'],x='average',kde=True,hue='race/ethnicity')\n",
    "plt.subplot(143)\n",
    "ax =sns.histplot(data=df[df.gender=='male'],x='average',kde=True,hue='race/ethnicity')\n",
    "plt.show()"
   ]
  },
  {
   "cell_type": "markdown",
   "id": "6180a334",
   "metadata": {},
   "source": [
    "#####  Insights\n",
    "- Students of group A and group B tends to perform poorly in exam.\n",
    "- Students of group A and group B tends to perform poorly in exam irrespective of whether they are male or female"
   ]
  },
  {
   "cell_type": "markdown",
   "id": "a1f7eef3",
   "metadata": {},
   "source": [
    "#### 4.2 Maximumum score of students in all three subjects"
   ]
  },
  {
   "cell_type": "code",
   "execution_count": null,
   "id": "14db115f",
   "metadata": {},
   "outputs": [],
   "source": [
    "\n",
    "plt.figure(figsize=(18,8))\n",
    "plt.subplot(1, 4, 1)\n",
    "plt.title('MATH SCORES')\n",
    "sns.violinplot(y='math score',data=df,color='red',linewidth=3)\n",
    "plt.subplot(1, 4, 2)\n",
    "plt.title('READING SCORES')\n",
    "sns.violinplot(y='reading score',data=df,color='green',linewidth=3)\n",
    "plt.subplot(1, 4, 3)\n",
    "plt.title('WRITING SCORES')\n",
    "sns.violinplot(y='writing score',data=df,color='blue',linewidth=3)\n",
    "plt.show()"
   ]
  },
  {
   "cell_type": "markdown",
   "id": "66d1041f",
   "metadata": {},
   "source": [
    "#### Insights\n",
    "- From the above three plots its clearly visible that most of the students score in between 60-80 in Maths whereas in reading and writing most of them score from 50-80"
   ]
  },
  {
   "cell_type": "markdown",
   "id": "ae77a33d",
   "metadata": {},
   "source": [
    "#### 4.3 Multivariate analysis using pieplot"
   ]
  },
  {
   "cell_type": "code",
   "execution_count": null,
   "id": "2ddf9ce3",
   "metadata": {},
   "outputs": [],
   "source": [
    "plt.rcParams['figure.figsize'] = (30, 12)\n",
    "\n",
    "plt.subplot(1, 5, 1)\n",
    "size = df['gender'].value_counts()\n",
    "labels = 'Female', 'Male'\n",
    "color = ['red','green']\n",
    "\n",
    "\n",
    "plt.pie(size, colors = color, labels = labels,autopct = '.%2f%%')\n",
    "plt.title('Gender', fontsize = 20)\n",
    "plt.axis('off')\n",
    "\n",
    "\n",
    "\n",
    "plt.subplot(1, 5, 2)\n",
    "size = df['race/ethnicity'].value_counts()\n",
    "labels = 'Group C', 'Group D','Group B','Group E','Group A'\n",
    "color = ['red', 'green', 'blue', 'cyan','orange']\n",
    "\n",
    "plt.pie(size, colors = color,labels = labels,autopct = '.%2f%%')\n",
    "plt.title('Race/Ethnicity', fontsize = 20)\n",
    "plt.axis('off')\n",
    "\n",
    "\n",
    "\n",
    "plt.subplot(1, 5, 3)\n",
    "size = df['lunch'].value_counts()\n",
    "labels = 'Standard', 'Free'\n",
    "color = ['red','green']\n",
    "\n",
    "plt.pie(size, colors = color,labels = labels,autopct = '.%2f%%')\n",
    "plt.title('Lunch', fontsize = 20)\n",
    "plt.axis('off')\n",
    "\n",
    "\n",
    "plt.subplot(1, 5, 4)\n",
    "size = df['test preparation course'].value_counts()\n",
    "labels = 'None', 'Completed'\n",
    "color = ['red','green']\n",
    "\n",
    "plt.pie(size, colors = color,labels = labels,autopct = '.%2f%%')\n",
    "plt.title('Test Course', fontsize = 20)\n",
    "plt.axis('off')\n",
    "\n",
    "\n",
    "plt.subplot(1, 5, 5)\n",
    "size = df['parental level of education'].value_counts()\n",
    "labels = 'Some College', \"Associate's Degree\",'High School','Some High School',\"Bachelor's Degree\",\"Master's Degree\"\n",
    "color = ['red', 'green', 'blue', 'cyan','orange','grey']\n",
    "\n",
    "plt.pie(size, colors = color,labels = labels,autopct = '.%2f%%')\n",
    "plt.title('Parental Education', fontsize = 20)\n",
    "plt.axis('off')\n",
    "\n",
    "\n",
    "plt.tight_layout()\n",
    "plt.grid()\n",
    "\n",
    "plt.show()"
   ]
  },
  {
   "cell_type": "markdown",
   "id": "2e2d686a",
   "metadata": {},
   "source": [
    "#####  Insights\n",
    "- Number of Male and Female students is almost equal\n",
    "- Number students are greatest in Group C\n",
    "- Number of students who have standard lunch are greater\n",
    "- Number of students who have not enrolled in any test preparation course is greater\n",
    "- Number of students whose parental education is \"Some College\" is greater followed closely by \"Associate's Degree\""
   ]
  },
  {
   "cell_type": "markdown",
   "id": "ab008237",
   "metadata": {},
   "source": [
    "#### 4.4 Feature Wise Visualization\n",
    "#### 4.4.1 GENDER COLUMN\n",
    "- How is distribution of Gender ?\n",
    "- Is gender has any impact on student's performance ?"
   ]
  },
  {
   "cell_type": "markdown",
   "id": "e1a2c8f5",
   "metadata": {},
   "source": [
    "#### UNIVARIATE ANALYSIS ( How is distribution of Gender ? )"
   ]
  },
  {
   "cell_type": "code",
   "execution_count": null,
   "id": "c435f53b",
   "metadata": {},
   "outputs": [],
   "source": [
    "f,ax=plt.subplots(1,2,figsize=(20,10))\n",
    "sns.countplot(x=df['gender'],data=df,palette ='bright',ax=ax[0],saturation=0.95)\n",
    "for container in ax[0].containers:\n",
    "    ax[0].bar_label(container,color='black',size=20)\n",
    "    \n",
    "plt.pie(x=df['gender'].value_counts(),labels=['Male','Female'],explode=[0,0.1],autopct='%1.1f%%',shadow=True,colors=['#ff4d4d','#ff8000'])\n",
    "plt.show()"
   ]
  },
  {
   "cell_type": "markdown",
   "id": "cfb8c9b2",
   "metadata": {},
   "source": [
    "#### Insights \n",
    "- Gender has balanced data with female students are 518 (48%) and male students are 482 (52%) "
   ]
  },
  {
   "cell_type": "markdown",
   "id": "e440a3a5",
   "metadata": {},
   "source": [
    "#### BIVARIATE ANALYSIS ( Is gender has any impact on student's performance ? ) "
   ]
  },
  {
   "cell_type": "code",
   "execution_count": null,
   "id": "526d49f9",
   "metadata": {},
   "outputs": [],
   "source": [
    "gender_group = df.groupby('gender').mean()\n",
    "gender_group"
   ]
  },
  {
   "cell_type": "code",
   "execution_count": null,
   "id": "b704f144",
   "metadata": {},
   "outputs": [],
   "source": [
    "plt.figure(figsize=(10, 8))\n",
    "\n",
    "X = ['Total Average','Math Average']\n",
    "\n",
    "\n",
    "female_scores = [gender_group['average'][0], gender_group['math score'][0]]\n",
    "male_scores = [gender_group['average'][1], gender_group['math score'][1]]\n",
    "\n",
    "X_axis = np.arange(len(X))\n",
    "  \n",
    "plt.bar(X_axis - 0.2, male_scores, 0.4, label = 'Male')\n",
    "plt.bar(X_axis + 0.2, female_scores, 0.4, label = 'Female')\n",
    "  \n",
    "plt.xticks(X_axis, X)\n",
    "plt.ylabel(\"Marks\")\n",
    "plt.title(\"Total average v/s Math average marks of both the genders\", fontweight='bold')\n",
    "plt.legend()\n",
    "plt.show()"
   ]
  },
  {
   "cell_type": "markdown",
   "id": "72fbab62",
   "metadata": {},
   "source": [
    "#### Insights \n",
    "- On an average females have a better overall score than men.\n",
    "- whereas males have scored higher in Maths."
   ]
  },
  {
   "cell_type": "markdown",
   "id": "1a903c5c",
   "metadata": {},
   "source": [
    "#### 4.4.2 RACE/EHNICITY COLUMN\n",
    "- How is Group wise distribution ?\n",
    "- Is Race/Ehnicity has any impact on student's performance ?"
   ]
  },
  {
   "cell_type": "markdown",
   "id": "69fe557f",
   "metadata": {},
   "source": [
    "#### UNIVARIATE ANALYSIS ( How is Group wise distribution ?)"
   ]
  },
  {
   "cell_type": "code",
   "execution_count": null,
   "id": "acbc5c8e",
   "metadata": {},
   "outputs": [],
   "source": [
    "f,ax=plt.subplots(1,2,figsize=(20,10))\n",
    "sns.countplot(x=df['race/ethnicity'],data=df,palette = 'bright',ax=ax[0],saturation=0.95)\n",
    "for container in ax[0].containers:\n",
    "    ax[0].bar_label(container,color='black',size=20)\n",
    "    \n",
    "plt.pie(x = df['race/ethnicity'].value_counts(),labels=df['race/ethnicity'].value_counts().index,explode=[0.1,0,0,0,0],autopct='%1.1f%%',shadow=True)\n",
    "plt.show()   "
   ]
  },
  {
   "cell_type": "markdown",
   "id": "1762646a",
   "metadata": {},
   "source": [
    "#### Insights \n",
    "- Most of the student belonging from group C /group D.\n",
    "- Lowest number of students belong to groupA."
   ]
  },
  {
   "cell_type": "markdown",
   "id": "2d3a3719",
   "metadata": {},
   "source": [
    "#### BIVARIATE ANALYSIS ( Is Race/Ehnicity has any impact on student's performance ? )"
   ]
  },
  {
   "cell_type": "code",
   "execution_count": null,
   "id": "db261c61",
   "metadata": {},
   "outputs": [],
   "source": [
    "Group_data2=df.groupby('race/ethnicity')\n",
    "f,ax=plt.subplots(1,3,figsize=(20,8))\n",
    "sns.barplot(x=Group_data2['math score'].mean().index,y=Group_data2['math score'].mean().values,palette = 'mako',ax=ax[0])\n",
    "ax[0].set_title('Math score',color='#005ce6',size=20)\n",
    "\n",
    "for container in ax[0].containers:\n",
    "    ax[0].bar_label(container,color='black',size=15)\n",
    "\n",
    "sns.barplot(x=Group_data2['reading score'].mean().index,y=Group_data2['reading score'].mean().values,palette = 'flare',ax=ax[1])\n",
    "ax[1].set_title('Reading score',color='#005ce6',size=20)\n",
    "\n",
    "for container in ax[1].containers:\n",
    "    ax[1].bar_label(container,color='black',size=15)\n",
    "\n",
    "sns.barplot(x=Group_data2['writing score'].mean().index,y=Group_data2['writing score'].mean().values,palette = 'coolwarm',ax=ax[2])\n",
    "ax[2].set_title('Writing score',color='#005ce6',size=20)\n",
    "\n",
    "for container in ax[2].containers:\n",
    "    ax[2].bar_label(container,color='black',size=15)"
   ]
  },
  {
   "cell_type": "markdown",
   "id": "8e292ddd",
   "metadata": {},
   "source": [
    "#### Insights \n",
    "- Group E students have scored the highest marks. \n",
    "- Group A students have scored the lowest marks. \n",
    "- Students from a lower Socioeconomic status have a lower avg in all course subjects"
   ]
  },
  {
   "cell_type": "markdown",
   "id": "1409042e",
   "metadata": {},
   "source": [
    "#### 4.4.3 PARENTAL LEVEL OF EDUCATION COLUMN\n",
    "- What is educational background of student's parent ?\n",
    "- Is parental education has any impact on student's performance ?"
   ]
  },
  {
   "cell_type": "markdown",
   "id": "38aca4fc",
   "metadata": {},
   "source": [
    "#### UNIVARIATE ANALYSIS ( What is educational background of student's parent ? )"
   ]
  },
  {
   "cell_type": "code",
   "execution_count": null,
   "id": "c05ab987",
   "metadata": {},
   "outputs": [],
   "source": [
    "plt.rcParams['figure.figsize'] = (15, 9)\n",
    "plt.style.use('fivethirtyeight')\n",
    "sns.countplot(df['parental level of education'], palette = 'Blues')\n",
    "plt.title('Comparison of Parental Education', fontweight = 30, fontsize = 20)\n",
    "plt.xlabel('Degree')\n",
    "plt.ylabel('count')\n",
    "plt.show()"
   ]
  },
  {
   "cell_type": "markdown",
   "id": "3d351e1d",
   "metadata": {},
   "source": [
    "#### Insights \n",
    "- Largest number of parents are from some college."
   ]
  },
  {
   "cell_type": "markdown",
   "id": "6f38ab41",
   "metadata": {},
   "source": [
    "#### BIVARIATE ANALYSIS ( Is parental education has any impact on student's performance ? )"
   ]
  },
  {
   "cell_type": "code",
   "execution_count": null,
   "id": "122b2581",
   "metadata": {},
   "outputs": [],
   "source": [
    "df.groupby('parental level of education').agg('mean').plot(kind='barh',figsize=(10,10))\n",
    "plt.legend(bbox_to_anchor=(1.05, 1), loc=2, borderaxespad=0.)\n",
    "plt.show()"
   ]
  },
  {
   "cell_type": "markdown",
   "id": "58b3999d",
   "metadata": {},
   "source": [
    "#### Insights \n",
    "- The score of student whose parents possess master and bachelor level education are higher than others."
   ]
  },
  {
   "cell_type": "markdown",
   "id": "079f4f29",
   "metadata": {},
   "source": [
    "#### 4.4.4 LUNCH COLUMN \n",
    "- Which type of lunch is most common amoung students ?\n",
    "- What is the effect of lunch type on test results?\n"
   ]
  },
  {
   "cell_type": "markdown",
   "id": "8584c755",
   "metadata": {},
   "source": [
    "#### UNIVARIATE ANALYSIS ( Which type of lunch is most common amoung students ? )"
   ]
  },
  {
   "cell_type": "code",
   "execution_count": null,
   "id": "a3a277e0",
   "metadata": {},
   "outputs": [],
   "source": [
    "plt.rcParams['figure.figsize'] = (15, 9)\n",
    "plt.style.use('seaborn-talk')\n",
    "sns.countplot(df['lunch'], palette = 'PuBu')\n",
    "plt.title('Comparison of different types of lunch', fontweight = 30, fontsize = 20)\n",
    "plt.xlabel('types of lunch')\n",
    "plt.ylabel('count')\n",
    "plt.show()"
   ]
  },
  {
   "cell_type": "markdown",
   "id": "332b0c50",
   "metadata": {},
   "source": [
    "#### Insights \n",
    "- Students being served Standard lunch was more than free lunch"
   ]
  },
  {
   "cell_type": "markdown",
   "id": "d75db26f",
   "metadata": {},
   "source": [
    "#### BIVARIATE ANALYSIS (  Is lunch type intake has any impact on student's performance ? )"
   ]
  },
  {
   "cell_type": "code",
   "execution_count": null,
   "id": "666babd5",
   "metadata": {},
   "outputs": [],
   "source": [
    "f,ax=plt.subplots(1,2,figsize=(20,8))\n",
    "sns.countplot(x=df['parental level of education'],data=df,palette = 'bright',hue='test preparation course',saturation=0.95,ax=ax[0])\n",
    "ax[0].set_title('Students vs test preparation course ',color='black',size=25)\n",
    "for container in ax[0].containers:\n",
    "    ax[0].bar_label(container,color='black',size=20)\n",
    "    \n",
    "sns.countplot(x=df['parental level of education'],data=df,palette = 'bright',hue='lunch',saturation=0.95,ax=ax[1])\n",
    "for container in ax[1].containers:\n",
    "    ax[1].bar_label(container,color='black',size=20)   "
   ]
  },
  {
   "cell_type": "markdown",
   "id": "0677b04c",
   "metadata": {},
   "source": [
    "#### Insights \n",
    "- Students who get Standard Lunch tend to perform better than students who got free/reduced lunch"
   ]
  },
  {
   "cell_type": "markdown",
   "id": "edd0ec29",
   "metadata": {},
   "source": [
    "#### 4.4.5 TEST PREPARATION COURSE COLUMN \n",
    "- Which type of lunch is most common amoung students ?\n",
    "- Is Test prepration course has any impact on student's performance ?"
   ]
  },
  {
   "cell_type": "markdown",
   "id": "cf8f65bd",
   "metadata": {},
   "source": [
    "#### BIVARIATE ANALYSIS ( Is Test prepration course has any impact on student's performance ? )"
   ]
  },
  {
   "cell_type": "code",
   "execution_count": null,
   "id": "1b08ed26",
   "metadata": {},
   "outputs": [],
   "source": [
    "plt.figure(figsize=(12,6))\n",
    "plt.subplot(2,2,1)\n",
    "sns.barplot (x=df['lunch'], y=df['math score'], hue=df['test preparation course'])\n",
    "plt.subplot(2,2,2)\n",
    "sns.barplot (x=df['lunch'], y=df['reading score'], hue=df['test preparation course'])\n",
    "plt.subplot(2,2,3)\n",
    "sns.barplot (x=df['lunch'], y=df['writing score'], hue=df['test preparation course'])"
   ]
  },
  {
   "cell_type": "markdown",
   "id": "5bab116e",
   "metadata": {},
   "source": [
    "#### Insights  \n",
    "- Students who have completed the Test Prepration Course have scores higher in all three categories than those who haven't taken the course"
   ]
  },
  {
   "cell_type": "markdown",
   "id": "4069d6e6",
   "metadata": {},
   "source": [
    "#### 4.4.6 CHECKING OUTLIERS"
   ]
  },
  {
   "cell_type": "code",
   "execution_count": null,
   "id": "62a813a5",
   "metadata": {},
   "outputs": [],
   "source": [
    "plt.subplots(1,4,figsize=(16,5))\n",
    "plt.subplot(141)\n",
    "sns.boxplot(df['math score'],color='skyblue')\n",
    "plt.subplot(142)\n",
    "sns.boxplot(df['reading score'],color='hotpink')\n",
    "plt.subplot(143)\n",
    "sns.boxplot(df['writing score'],color='yellow')\n",
    "plt.subplot(144)\n",
    "sns.boxplot(df['average'],color='lightgreen')\n",
    "plt.show()"
   ]
  },
  {
   "cell_type": "markdown",
   "id": "957e8bef",
   "metadata": {},
   "source": [
    "#### 4.4.7 MUTIVARIATE ANALYSIS USING PAIRPLOT"
   ]
  },
  {
   "cell_type": "code",
   "execution_count": null,
   "id": "f09f746c",
   "metadata": {},
   "outputs": [],
   "source": [
    "sns.pairplot(df,hue = 'gender')\n",
    "plt.show()"
   ]
  },
  {
   "cell_type": "markdown",
   "id": "f7991322",
   "metadata": {},
   "source": [
    "#### Insights\n",
    "- From the above plot it is clear that all the scores increase linearly with each other."
   ]
  },
  {
   "cell_type": "markdown",
   "id": "b7e20716",
   "metadata": {},
   "source": [
    "### 5. Conclusions\n",
    "- Student's Performance is related with lunch, race, parental level education\n",
    "- Females lead in pass percentage and also are top-scorers\n",
    "- Student's Performance is not much related with test preparation course\n",
    "- Finishing preparation course is benefitial."
   ]
  }
 ],
 "metadata": {
  "kernelspec": {
   "display_name": "Python 3 (ipykernel)",
   "language": "python",
   "name": "python3"
  },
  "language_info": {
   "codemirror_mode": {
    "name": "ipython",
    "version": 3
   },
   "file_extension": ".py",
   "mimetype": "text/x-python",
   "name": "python",
   "nbconvert_exporter": "python",
   "pygments_lexer": "ipython3",
   "version": "3.9.12"
  },
  "vscode": {
   "interpreter": {
    "hash": "7f9dc718a552478e14f37d36e0ca2ac7de1ac15c04a40a415ea3abc3fe8a0a39"
   }
  }
 },
 "nbformat": 4,
 "nbformat_minor": 5
}
